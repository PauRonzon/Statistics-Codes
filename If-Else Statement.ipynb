{
 "cells": [
  {
   "cell_type": "code",
   "execution_count": 9,
   "metadata": {},
   "outputs": [
    {
     "name": "stdout",
     "output_type": "stream",
     "text": [
      "Electronics Grade: 70\n",
      "Congrats, you have approved the subjetc\n",
      "Statistics Grade: 85\n",
      "Congrats, you have approved the subjetc\n",
      "Thermodynamics Grade: 90\n",
      "Congrats, you have approved the subjetc\n"
     ]
    }
   ],
   "source": [
    "electronics = int(input(\"Electronics Grade: \"))\n",
    "\n",
    "if electronics <75:\n",
    "    print (\"Sorry, you have failed the subject\") \n",
    "\n",
    "else:\n",
    "    print (\"Congrats, you have approved the subjetc\")\n",
    "\n",
    "statistics = int(input(\"Statistics Grade: \"))\n",
    "\n",
    "if statistics <75:\n",
    "    print (\"Sorry, you have failed the subject\") \n",
    "\n",
    "else:\n",
    "    print (\"Congrats, you have approved the subjetc\")\n",
    "\n",
    "thermodynamics = int(input(\"Thermodynamics Grade: \"))\n",
    "\n",
    "if thermodynamics <75:\n",
    "    print (\"Sorry, you have failed the subject\") \n",
    "\n",
    "else:\n",
    "    print (\"Congrats, you have approved the subjetc\")"
   ]
  },
  {
   "cell_type": "code",
   "execution_count": null,
   "metadata": {},
   "outputs": [],
   "source": []
  }
 ],
 "metadata": {
  "kernelspec": {
   "display_name": "Python 3",
   "language": "python",
   "name": "python3"
  },
  "language_info": {
   "codemirror_mode": {
    "name": "ipython",
    "version": 3
   },
   "file_extension": ".py",
   "mimetype": "text/x-python",
   "name": "python",
   "nbconvert_exporter": "python",
   "pygments_lexer": "ipython3",
   "version": "3.8.3"
  }
 },
 "nbformat": 4,
 "nbformat_minor": 4
}
